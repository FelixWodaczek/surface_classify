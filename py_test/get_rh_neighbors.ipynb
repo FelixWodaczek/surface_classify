{
 "cells": [
  {
   "cell_type": "code",
   "execution_count": null,
   "id": "e8486454",
   "metadata": {},
   "outputs": [],
   "source": [
    "from ase.io import read as ase_read\n",
    "from ase.neighborlist import natural_cutoffs, NeighborList\n",
    "\n",
    "import numpy as np"
   ]
  },
  {
   "cell_type": "code",
   "execution_count": null,
   "id": "bb94095c",
   "metadata": {},
   "outputs": [],
   "source": [
    "test_folder = \"../test_data\"\n",
    "target_file = test_folder + \"/POSCARrh\"\n",
    "\n",
    "full_particle = ase_read(target_file, format=\"vasp\")\n",
    "\n",
    "cut_offs = natural_cutoffs(full_particle, mult=3.) # mult=0.92)\n",
    "neighbour_list = NeighborList(cutoffs=cut_offs, bothways=True, self_interaction=False)\n",
    "neighbour_list.update(full_particle)\n",
    "\n",
    "rh_counter = 0\n",
    "\n",
    "# for index in range(len(full_particle)-17, len(full_particle)):\n",
    "for atom in full_particle:\n",
    "    neighbour_indices, offsets = neighbour_list.get_neighbors(atom.index)\n",
    "    particle = full_particle[neighbour_indices[:-1]]\n",
    "\n",
    "    if particle.get_chemical_symbols()[0] == \"Rh\":\n",
    "        for i, offset in zip(neighbour_indices, offsets):\n",
    "            pass\n",
    "            #print(full_particle.positions[i] + np.dot(offset, full_particle.get_cell()))\n",
    "        # print(atom.index)\n",
    "        # print(neighbour_indices)\n",
    "        \n",
    "        print(np.argwhere(neighbour_indices==atom.index), len(neighbour_indices))\n",
    "        rh_counter += 1\n",
    "        \n",
    "        \n",
    "        if False: \n",
    "            save_name = test_folder+(\"/%u.extxyz\"%rh_counter)\n",
    "            particle.write(save_name,  format='extxyz')"
   ]
  },
  {
   "cell_type": "code",
   "execution_count": null,
   "id": "77e90e30",
   "metadata": {},
   "outputs": [],
   "source": [
    "from ase.visualize import view\n",
    "\n",
    "target_file = \"POSCARrh\"\n",
    "\n",
    "full_particle = ase_read(target_file)#, format=\"lammps-dump-text\")\n",
    "\n",
    "cut_offs = natural_cutoffs(full_particle, mult=0.92)\n",
    "neighbour_list = NeighborList(cutoffs=cut_offs, bothways=True, self_interaction=False)\n",
    "neighbour_list.update(full_particle)\n",
    "\n",
    "all_symbs = full_particle.get_chemical_symbols()\n",
    "rh_positions = []\n",
    "for ii_symb, symb in enumerate(all_symbs):\n",
    "    if symb == 'Rh':\n",
    "        rh_positions.append(ii_symb)\n",
    "        # all_symbs[ii_symb] = \"Cu\"\n",
    "        \n",
    "full_particle.set_chemical_symbols(all_symbs)\n",
    "\n",
    "for atom_index in rh_positions:\n",
    "    atom = full_particle[atom_index]\n",
    "\n",
    "    neighbour_indices, offsets = neighbour_list.get_neighbors(atom.index)\n",
    "    neighbour_indices = np.append(np.array([atom.index]), neighbour_indices, axis=0)\n",
    "\n",
    "    neigh_particle = full_particle[neighbour_indices]\n",
    "    if True: # len(neigh_particle) == 7 or len(neigh_particle) == 8:\n",
    "        symbs = neigh_particle.get_chemical_symbols()\n",
    "        print(\"This has %u neighbors\"%(len(symbs)-1))\n",
    "        view(neigh_particle)\n",
    "        name = input()\n",
    "        # symbs[0] = 'Cu'\n",
    "        neigh_particle.set_chemical_symbols(symbs)\n",
    "        neigh_particle.write(str(name)+\".extxyz\", format='extxyz')"
   ]
  },
  {
   "cell_type": "code",
   "execution_count": null,
   "id": "0ceefbb6",
   "metadata": {},
   "outputs": [],
   "source": [
    "from ase.visualize import view\n",
    "\n",
    "fpath = \"../py_test/3neighbouradatom.extxyz\"\n",
    "part = ase_read(fpath)\n",
    "view(part)"
   ]
  },
  {
   "cell_type": "code",
   "execution_count": null,
   "id": "21a9cc86",
   "metadata": {},
   "outputs": [],
   "source": []
  }
 ],
 "metadata": {
  "kernelspec": {
   "display_name": "Python 3 (ipykernel)",
   "language": "python",
   "name": "python3"
  },
  "language_info": {
   "codemirror_mode": {
    "name": "ipython",
    "version": 3
   },
   "file_extension": ".py",
   "mimetype": "text/x-python",
   "name": "python",
   "nbconvert_exporter": "python",
   "pygments_lexer": "ipython3",
   "version": "3.9.16"
  },
  "vscode": {
   "interpreter": {
    "hash": "89c38489e3a3631c28bb34ee29ee1d19eecb11ca19c23361330a3cc012ae8209"
   }
  }
 },
 "nbformat": 4,
 "nbformat_minor": 5
}
