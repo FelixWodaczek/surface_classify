{
 "cells": [
  {
   "cell_type": "code",
   "execution_count": null,
   "id": "9c75bb4c",
   "metadata": {},
   "outputs": [],
   "source": [
    "from ase.io import read, write\n",
    "from ase.build import bulk\n",
    "from ase import visualize\n",
    "from ase.visualize import view\n",
    "from ase.build import surface \n",
    "from ase.spacegroup import crystal\n",
    "\n",
    "from ase.lattice.cubic import FaceCenteredCubic\n",
    "\n",
    "from ase.build import find_optimal_cell_shape\n",
    "from ase.build import make_supercell"
   ]
  },
  {
   "cell_type": "code",
   "execution_count": null,
   "id": "73b6c256",
   "metadata": {},
   "outputs": [],
   "source": [
    "cop = read('POSCAR')\n",
    "s211 = surface(cop, (2,1,1), 10)\n",
    "s211.center(vacuum=10, axis=2)\n",
    "s311 = surface(cop, (3,1,1), 10)\n",
    "s311.center(vacuum=10, axis=2)\n",
    "#s311 = surface(cop, (3,1,1), layers=6, vacuum=10)"
   ]
  },
  {
   "cell_type": "code",
   "execution_count": null,
   "id": "215151ce",
   "metadata": {},
   "outputs": [],
   "source": [
    "write('slab-211.xyz',s211)\n",
    "write('slab-311.xyz',s311)"
   ]
  },
  {
   "cell_type": "code",
   "execution_count": null,
   "id": "809592c3",
   "metadata": {},
   "outputs": [],
   "source": [
    "P = find_optimal_cell_shape(s211.cell, 20, target_shape='sc')\n",
    "supercell_211 = make_supercell(s211, P)"
   ]
  },
  {
   "cell_type": "code",
   "execution_count": null,
   "id": "209688c9",
   "metadata": {},
   "outputs": [],
   "source": [
    "write('supercell-211.xyz',supercell_211)"
   ]
  },
  {
   "cell_type": "code",
   "execution_count": null,
   "id": "6d16fbe2",
   "metadata": {},
   "outputs": [],
   "source": [
    "P = find_optimal_cell_shape(s311.cell, 20, target_shape='sc')\n",
    "supercell_311 = make_supercell(s311, P)"
   ]
  },
  {
   "cell_type": "code",
   "execution_count": null,
   "id": "e46ff175",
   "metadata": {},
   "outputs": [],
   "source": [
    "write('supercell-311.xyz',supercell_311)"
   ]
  },
  {
   "cell_type": "code",
   "execution_count": null,
   "id": "28a51694",
   "metadata": {},
   "outputs": [],
   "source": [
    "#Try some other surfaces too and classify them if you get the time such as 730, 771, 631"
   ]
  },
  {
   "cell_type": "code",
   "execution_count": null,
   "id": "f2be1bf8",
   "metadata": {},
   "outputs": [],
   "source": [
    "surface_dict = {\n",
    "    '110': (1, 1, 0),\n",
    "    '111': (1, 1, 1),\n",
    "    '211': (2, 1, 1)\n",
    "}"
   ]
  },
  {
   "cell_type": "code",
   "execution_count": null,
   "id": "7759e8cc",
   "metadata": {},
   "outputs": [],
   "source": [
    "for label, slice_tuple in surface_dict.items():\n",
    "    print(f\"Constructing ({label}) surface\")\n",
    "    surf = surface(cop, slice_tuple, 10)\n",
    "    surf.center(vacuum=10, axis=2)\n",
    "    cell_mat = find_optimal_cell_shape(surf.cell, 20, target_shape='sc')\n",
    "    supercell = make_supercell(surf, cell_mat)\n",
    "    view(supercell)\n",
    "    write(f'supercell_{label}.xyz',supercell)"
   ]
  },
  {
   "cell_type": "code",
   "execution_count": null,
   "id": "e9079931",
   "metadata": {},
   "outputs": [],
   "source": []
  }
 ],
 "metadata": {
  "kernelspec": {
   "display_name": "Python 3 (ipykernel)",
   "language": "python",
   "name": "python3"
  },
  "language_info": {
   "codemirror_mode": {
    "name": "ipython",
    "version": 3
   },
   "file_extension": ".py",
   "mimetype": "text/x-python",
   "name": "python",
   "nbconvert_exporter": "python",
   "pygments_lexer": "ipython3",
   "version": "3.9.16"
  }
 },
 "nbformat": 4,
 "nbformat_minor": 5
}
