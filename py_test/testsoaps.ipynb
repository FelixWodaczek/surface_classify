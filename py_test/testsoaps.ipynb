{
 "cells": [
  {
   "cell_type": "code",
   "execution_count": null,
   "id": "d221b42b",
   "metadata": {},
   "outputs": [],
   "source": [
    "import sys\n",
    "sys.path.append(\"../py_src\")\n",
    "\n",
    "import sort_neigh\n",
    "import time\n",
    "import os"
   ]
  },
  {
   "cell_type": "code",
   "execution_count": null,
   "id": "cc2124aa",
   "metadata": {},
   "outputs": [],
   "source": [
    "temperatures= [\"800\"]\n",
    "for temp in temperatures:\n",
    "    nano_path = \"/Users/rhysbunting/Documents/felixprocess/rh/mc/\" + temp + \".lammpstrj\"\n",
    "    save_txt_path = \"/Users/rhysbunting/Documents/felixprocess/rh/mc/\" + temp + \".3txt\"\n",
    "    sorter = sort_neigh.NeighbourSort(\n",
    "        rcut=5, nmax=4, lmax=3, sigma=2.5, gamma_kernel=0.5,\n",
    "    local_structures_path=os.path.abspath(\"../src/localstructures_newopt_rh\")\n",
    "    )\n",
    "    start = time.time()\n",
    "    sorter.load_particle(\n",
    "    nano_path\n",
    "    )\n",
    "\n",
    "    cat_counter = sorter.create_local_structure(\n",
    "    last_n=15, create_subfolders=True,\n",
    "    mode=\"pre_group\"\n",
    "    )\n",
    "    stop = time.time()\n",
    "    print(\"Sorting took %u seconds.\"%(stop-start))\n",
    "\n",
    "    file_name = sorter.sort_save_cat(\n",
    "    file_name=save_txt_path, cat_counter=cat_counter\n",
    "    )"
   ]
  },
  {
   "cell_type": "code",
   "execution_count": null,
   "id": "ce122c0b",
   "metadata": {
    "scrolled": true
   },
   "outputs": [],
   "source": [
    "import numpy as np\n",
    "\n",
    "temperatures= [\"400\", \"600\", \"800\"]\n",
    "for temp in temperatures:\n",
    "    sorted_cat_counter, timesteps, sorted_classes = sorter.load_sort_cat(file_name=\"/Users/rhysbunting/Documents/felixprocess/rh/mc/\" + temp + \".txt\" )\n",
    "    sorter.plot_dist(sorted_classes, sorted_cat_counter)\n",
    "    #print('0 1 2 3_111adatom 4_100adatom 4_111adatompair 5_111terrace 5_110adatom 5_211adatom 6_100_110interface 6_100terrace 7_110 7_211 8_100 8_111vacantsite 9_invalid 9_111 9_invalid2 10 11 12 13 14')\n",
    "    print(np.sum(sorted_cat_counter, axis=0))"
   ]
  },
  {
   "cell_type": "code",
   "execution_count": null,
   "id": "3e327a0d",
   "metadata": {
    "scrolled": true
   },
   "outputs": [],
   "source": [
    "import numpy as np\n",
    "\n",
    "temperatures= [\"800\"]\n",
    "for temp in temperatures:\n",
    "    sorted_cat_counter, timesteps, sorted_classes = sorter.load_sort_cat(file_name=\"/Users/rhysbunting/Documents/felixprocess/rh/mcmd/\" + temp + \".3txt\" )\n",
    "    sorter.plot_dist(sorted_classes, sorted_cat_counter)\n",
    "    #print('0 1 2 3_111adatom 4_100adatom 4_111adatompair 5_111terrace 5_110adatom 5_211adatom 6_100_110interface 6_100terrace 7_110 7_211 8_100 8_111vacantsite 9_invalid 9_111 9_invalid2 10 11 12 13 14')\n",
    "    print(np.sum(sorted_cat_counter, axis=0))"
   ]
  },
  {
   "cell_type": "code",
   "execution_count": null,
   "id": "61f5c43c",
   "metadata": {
    "scrolled": false
   },
   "outputs": [],
   "source": [
    "import numpy as np\n",
    "\n",
    "temperatures= [\"800\"]\n",
    "for temp in temperatures:\n",
    "    sorted_cat_counter, timesteps, sorted_classes = sorter.load_sort_cat(file_name=\"/Users/rhysbunting/Documents/felixprocess/pd/mc/\" + temp + \".3txt\" )\n",
    "    sorter.plot_dist(sorted_classes, sorted_cat_counter)\n",
    "    #print('0 1 2 3_111adatom 4_100adatom 4_111adatompair 5_111terrace 5_110adatom 5_211adatom 6_100_110interface 6_100terrace 7_110 7_211 8_100 8_111vacantsite 9_invalid 9_111 9_invalid2 10 11 12 13 14')\n",
    "    print(np.sum(sorted_cat_counter, axis=0))"
   ]
  },
  {
   "cell_type": "code",
   "execution_count": null,
   "id": "e6187bb6",
   "metadata": {
    "scrolled": false
   },
   "outputs": [],
   "source": [
    "import numpy as np\n",
    "\n",
    "temperatures= [\"800\"]\n",
    "for temp in temperatures:\n",
    "    sorted_cat_counter, timesteps, sorted_classes = sorter.load_sort_cat(file_name=\"/Users/rhysbunting/Documents/felixprocess/pd/mcmd/\" + temp + \".3txt\" )\n",
    "    sorter.plot_dist(sorted_classes, sorted_cat_counter)\n",
    "    #print('0 1 2 3_111adatom 4_100adatom 4_111adatompair 5_111terrace 5_110adatom 5_211adatom 6_100_110interface 6_100terrace 7_110 7_211 8_100 8_111vacantsite 9_invalid 9_111 9_invalid2 10 11 12 13 14')\n",
    "    print(np.sum(sorted_cat_counter, axis=0))"
   ]
  },
  {
   "cell_type": "code",
   "execution_count": null,
   "id": "58768d56",
   "metadata": {},
   "outputs": [],
   "source": [
    "import numpy as np\n",
    "\n",
    "temperatures= [\"400\"]\n",
    "for temp in temperatures:\n",
    "    sorted_cat_counter, timesteps, sorted_classes = sorter.load_sort_cat(file_name=\"/Users/rhysbunting/Documents/felixprocess/rh/mcmd/\" + temp + \".3txt\" )\n",
    "    sorter.plot_dist(sorted_classes, sorted_cat_counter)\n",
    "    #print('0 1 2 3_111adatom 4_100adatom 4_111adatompair 5_111terrace 5_110adatom 5_211adatom 6_100_110interface 6_100terrace 7_110 7_211 8_100 8_111vacantsite 9_invalid 9_111 9_invalid2 10 11 12 13 14')\n",
    "    print(np.sum(sorted_cat_counter, axis=0))"
   ]
  },
  {
   "cell_type": "code",
   "execution_count": null,
   "id": "ce953db2",
   "metadata": {},
   "outputs": [],
   "source": [
    "import numpy as np\n",
    "\n",
    "temperatures= [\"400\"]\n",
    "for temp in temperatures:\n",
    "    sorted_cat_counter, timesteps, sorted_classes = sorter.load_sort_cat(file_name=\"/Users/rhysbunting/Documents/felixprocess/pd/mcmd/\" + temp + \".3txt\" )\n",
    "    sorter.plot_dist(sorted_classes, sorted_cat_counter)\n",
    "    #print('0 1 2 3_111adatom 4_100adatom 4_111adatompair 5_111terrace 5_110adatom 5_211adatom 6_100_110interface 6_100terrace 7_110 7_211 8_100 8_111vacantsite 9_invalid 9_111 9_invalid2 10 11 12 13 14')\n",
    "    print(np.sum(sorted_cat_counter, axis=0))"
   ]
  },
  {
   "cell_type": "code",
   "execution_count": null,
   "id": "e19e860e",
   "metadata": {},
   "outputs": [],
   "source": []
  }
 ],
 "metadata": {
  "kernelspec": {
   "display_name": "Python 3 (ipykernel)",
   "language": "python",
   "name": "python3"
  },
  "language_info": {
   "codemirror_mode": {
    "name": "ipython",
    "version": 3
   },
   "file_extension": ".py",
   "mimetype": "text/x-python",
   "name": "python",
   "nbconvert_exporter": "python",
   "pygments_lexer": "ipython3",
   "version": "3.9.12"
  }
 },
 "nbformat": 4,
 "nbformat_minor": 5
}
