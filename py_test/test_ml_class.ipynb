{
 "cells": [
  {
   "cell_type": "markdown",
   "id": "f216e826",
   "metadata": {},
   "source": [
    "## Imports"
   ]
  },
  {
   "cell_type": "code",
   "execution_count": null,
   "metadata": {},
   "outputs": [],
   "source": [
    "import sys\n",
    "sys.path.append(\"../py_src\")\n",
    "\n",
    "from glob import glob\n",
    "import os\n",
    "\n",
    "import numpy as np\n",
    "import matplotlib.pyplot as plt\n",
    "\n",
    "import sort_neigh\n",
    "\n",
    "from ase.io import read as ase_read\n",
    "from ase.neighborlist import natural_cutoffs, NeighborList\n",
    "from dscribe.descriptors import LMBTR, SOAP"
   ]
  },
  {
   "attachments": {},
   "cell_type": "markdown",
   "metadata": {},
   "source": [
    "## Define some Values"
   ]
  },
  {
   "cell_type": "code",
   "execution_count": null,
   "metadata": {},
   "outputs": [],
   "source": [
    "target_dir = \"../test_data/221230_finalres/rh\"\n",
    "only_cu_dir = target_dir + \"/cunanoparticle\"\n",
    "only_cu_path = only_cu_dir + \"/cusingle.lammpstrj\"\n",
    "\n",
    "n_particles = 1577\n",
    "n_rhod = 15\n",
    "\n",
    "rcut=4.2 # 4.2 # 2.7 \n",
    "nmax=4\n",
    "lmax=3\n",
    "sigma=0.6\n",
    "gamma_kernel=1."
   ]
  },
  {
   "attachments": {},
   "cell_type": "markdown",
   "metadata": {},
   "source": [
    "## ML Classifier"
   ]
  },
  {
   "cell_type": "code",
   "execution_count": null,
   "metadata": {},
   "outputs": [],
   "source": [
    "ml_classifier = sort_neigh.USMLClassifier()\n",
    "\n",
    "use_soap = True\n",
    "if use_soap:\n",
    "    descr = SOAP(species=[\"Rh\", \"Cu\"], rcut=rcut, nmax=nmax, lmax=lmax, sigma=sigma, periodic=False)\n",
    "else:\n",
    "    n_spec = 180\n",
    "    dim_red = LMBTR(\n",
    "        species=[\"Rh\", \"Cu\"],\n",
    "    #    k2={\n",
    "    #        \"geometry\": {\"function\": \"distance\"},\n",
    "    #        \"grid\": {\"min\": 0, \"max\": 5, \"n\": 100, \"sigma\": 0.1},\n",
    "    #        \"weighting\": {\"function\": \"exp\", \"scale\": 0.5, \"threshold\": 1e-3},\n",
    "    #    },\n",
    "        k3={\n",
    "            \"geometry\": {\"function\": \"angle\"},\n",
    "            \"grid\": {\"min\": 0, \"max\": 180, \"n\": n_spec, \"sigma\": 3},\n",
    "            \"weighting\": {\"function\": \"unity\"},\n",
    "        },\n",
    "        periodic=False,\n",
    "        sparse=False,\n",
    "        normalization=\"none\",\n",
    "        flatten=True\n",
    "    )\n",
    "\n",
    "standard_classifier = sort_neigh.NeighbourClassifier(\n",
    "    local_structures_path=os.path.abspath(\"../src/localstructures_newopt_rh\"),\n",
    "    non_class_max=14\n",
    ")\n",
    "standard_classifier.load_identifiers(descr_func=descr)"
   ]
  },
  {
   "attachments": {},
   "cell_type": "markdown",
   "metadata": {},
   "source": [
    "## Import Particle"
   ]
  },
  {
   "cell_type": "code",
   "execution_count": null,
   "metadata": {},
   "outputs": [],
   "source": [
    "full_particle = ase_read(only_cu_path)\n",
    "at_pos = full_particle.get_positions()\n",
    "\n",
    "cut_off = natural_cutoffs(full_particle, mult=0.98)# mult=0.98)\n",
    "neighbour_list = NeighborList(cut_off, bothways=True, self_interaction=False)\n",
    "neighbour_list.update(full_particle)\n",
    "\n",
    "ind_soaps = np.zeros((len(full_particle), descr.get_number_of_features()))\n",
    "for index in range(len(full_particle)):\n",
    "    neighbour_indices, trash = neighbour_list.get_neighbors(index)\n",
    "    neighbour_indices = np.append(np.array([index]), neighbour_indices, axis=0)\n",
    "    neighbour_particle = full_particle[neighbour_indices]\n",
    "    \n",
    "    # Make center atom Rh\n",
    "    symbs = neighbour_particle.get_chemical_symbols()\n",
    "    symbs[0] = \"Rh\"\n",
    "    neighbour_particle.set_chemical_symbols(symbs)\n",
    "    \n",
    "    ind_soaps[index] = descr.create(neighbour_particle, positions=[0])"
   ]
  },
  {
   "attachments": {},
   "cell_type": "markdown",
   "metadata": {},
   "source": [
    "## Training"
   ]
  },
  {
   "cell_type": "code",
   "execution_count": null,
   "metadata": {},
   "outputs": [],
   "source": [
    "from sklearn.manifold import TSNE\n",
    "from sklearn.decomposition import PCA, KernelPCA\n",
    "from sklearn.cluster import KMeans, DBSCAN, Birch\n",
    "from dscribe.descriptors import SOAP\n",
    "\n",
    "train_on_particle = False\n",
    "if train_on_particle:\n",
    "    n_clust = ml_classifier.train_on_particle(\n",
    "        full_particle,\n",
    "        soap_species=[\"Cu\"], dim_red=PCA(n_components=4), \n",
    "        clusterer=Birch(n_clusters=10),\n",
    "        rcut=rcut, nmax=nmax, lmax=lmax, sigma=sigma\n",
    "    )\n",
    "else:\n",
    "    n_clust = ml_classifier._train_on_data(\n",
    "        ind_soaps,\n",
    "        dim_red=PCA(n_components=20), clusterer=Birch(n_clusters=8)\n",
    "    )\n",
    "    ml_classifier.descr = descr\n",
    "\n",
    "soaps = ml_classifier.descr.create(full_particle)\n",
    "reduced_particle = ml_classifier.dim_red.transform(ind_soaps)"
   ]
  },
  {
   "attachments": {},
   "cell_type": "markdown",
   "metadata": {},
   "source": [
    "## Load Soaps from localstructures"
   ]
  },
  {
   "cell_type": "code",
   "execution_count": null,
   "metadata": {},
   "outputs": [],
   "source": [
    "soaps_from_classifier = []\n",
    "labels = []\n",
    "\n",
    "for key in standard_classifier.identification_dict.keys():\n",
    "    entry = standard_classifier.identification_dict[key]\n",
    "    if entry is not None:\n",
    "        soaps_from_classifier.append(entry[\"soap_descr\"][:, 0, :])\n",
    "        labels.append(entry[\"id\"])\n",
    "\n",
    "buff = soaps_from_classifier[0].copy()\n",
    "for ii_soap in range(1, len(soaps_from_classifier)):\n",
    "    buff = np.append(buff, soaps_from_classifier[ii_soap], axis=0)\n",
    "\n",
    "soaps_from_classifier = buff.copy()\n",
    "del buff\n",
    "\n",
    "buff = []\n",
    "for label in labels:\n",
    "    for entry in label:\n",
    "        buff.append(entry)\n",
    "\n",
    "labels=buff\n",
    "del buff\n",
    "\n",
    "print(\"Loaded localstructures: \")\n",
    "print(labels)\n",
    "print(soaps_from_classifier.shape)\n",
    "soap_prediction = ml_classifier.dim_red.transform(soaps_from_classifier)"
   ]
  },
  {
   "attachments": {},
   "cell_type": "markdown",
   "metadata": {},
   "source": [
    "## Load Existing Atomic Descriptors"
   ]
  },
  {
   "cell_type": "code",
   "execution_count": null,
   "metadata": {},
   "outputs": [],
   "source": [
    "target_folders = [\n",
    "    target_dir+\"/mc\",\n",
    "    target_dir+\"/mcmd\"\n",
    "]\n",
    "\n",
    "if use_soap:\n",
    "    load_name = \"_soap.npy\"\n",
    "else:\n",
    "    load_name = \"_lmbtr.npy\"\n",
    "\n",
    "results_dict = {}\n",
    "\n",
    "for target_folder in target_folders:\n",
    "    for target_file in glob(target_folder+\"/*.lammpstrj\"):\n",
    "        target_file = os.path.abspath(target_file)\n",
    "        only_file = os.path.basename(target_file).split(\".\")[0]\n",
    "        save_txt_path = os.path.join(os.path.dirname(target_file), only_file+load_name)\n",
    "\n",
    "        with open(save_txt_path, 'rb') as f:\n",
    "            load_descriptors = np.load(f)\n",
    "            f.close()\n",
    "\n",
    "        dir_name = save_txt_path.split(\"/\")[-2]\n",
    "        cur_key = '_'.join([dir_name, only_file])\n",
    "        results_dict[cur_key] = {}\n",
    "        results_dict[cur_key][\"descriptors\"] = load_descriptors.copy()\n",
    "        import_shape = load_descriptors.shape\n",
    "        load_descriptors = load_descriptors.reshape((import_shape[0]*import_shape[1], import_shape[2]))\n",
    "        results_dict[cur_key][\"dim_red\"] = ml_classifier.dim_red.transform(load_descriptors)\n",
    "        results_dict[cur_key][\"dim_red\"] = results_dict[cur_key][\"dim_red\"].reshape((import_shape[0], import_shape[1], results_dict[cur_key][\"dim_red\"].shape[-1]))\n"
   ]
  },
  {
   "attachments": {},
   "cell_type": "markdown",
   "metadata": {},
   "source": [
    "## Plot Reduction Maps"
   ]
  },
  {
   "cell_type": "code",
   "execution_count": null,
   "metadata": {},
   "outputs": [],
   "source": [
    "fig, ax = plt.subplots(1, 1, figsize=(8, 8))\n",
    "ax.set_title(\"PCA Map of Unsupervised Regression\")\n",
    "\n",
    "sc = ax.scatter(reduced_particle[:, 0], reduced_particle[:, 1], label='particle')\n",
    "ax.scatter(soap_prediction[:, 0], soap_prediction[:, 1], c=\"k\", label=\"localstructures\")\n",
    "for ii_label, label in enumerate(labels):  \n",
    "        ax.annotate(label, soap_prediction[ii_label, 0:2])\n",
    "\n",
    "load_descriptors = results_dict[\"mcmd_600\"][\"dim_red\"][..., :2]\n",
    "load_descriptors = load_descriptors.reshape((load_descriptors.shape[0]*load_descriptors.shape[1], load_descriptors.shape[2]))\n",
    "ax.scatter(load_descriptors[:, 0], load_descriptors[:, 1], label='trajectory')\n",
    "ax.legend()\n",
    "plt.show()"
   ]
  },
  {
   "cell_type": "code",
   "execution_count": null,
   "metadata": {},
   "outputs": [],
   "source": []
  }
 ],
 "metadata": {
  "kernelspec": {
   "display_name": "base",
   "language": "python",
   "name": "python3"
  },
  "language_info": {
   "codemirror_mode": {
    "name": "ipython",
    "version": 3
   },
   "file_extension": ".py",
   "mimetype": "text/x-python",
   "name": "python",
   "nbconvert_exporter": "python",
   "pygments_lexer": "ipython3",
   "version": "3.8.13"
  },
  "orig_nbformat": 4,
  "vscode": {
   "interpreter": {
    "hash": "89c38489e3a3631c28bb34ee29ee1d19eecb11ca19c23361330a3cc012ae8209"
   }
  }
 },
 "nbformat": 4,
 "nbformat_minor": 2
}
