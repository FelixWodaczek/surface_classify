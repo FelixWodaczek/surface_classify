{
 "cells": [
  {
   "cell_type": "markdown",
   "id": "5039a948",
   "metadata": {},
   "source": [
    "###### Show Notebook for Usage of sort_neigh.py\n",
    "\n",
    "This jupyter notebook shows the core features of sort_neigh.py.\n",
    "\n",
    "sort_neigh.py consists of a classifier (`sort_neigh.NeighbourClassifier`) and a surrounding class (`sort_neigh.NeighbourSort`) that handles reading the given nanoparticle and writing the results to according folders.\n",
    "The key features can also be used in command line, some examples of how to do this are given below."
   ]
  },
  {
   "cell_type": "markdown",
   "id": "222bdcea",
   "metadata": {},
   "source": [
    "## Imports\n",
    "\n",
    "Importing sort_neigh.py and time for timing the function calls."
   ]
  },
  {
   "cell_type": "code",
   "execution_count": null,
   "id": "d221b42b",
   "metadata": {},
   "outputs": [],
   "source": [
    "import sys\n",
    "sys.path.append(\"../py_src\")\n",
    "\n",
    "import sort_neigh\n",
    "import time\n",
    "import os\n",
    "sorter = sort_neigh.NeighbourSort(\n",
    "    rcut=5, nmax=12, lmax=12, sigma=2.5, gamma_kernel=1,\n",
    "local_structures_path=os.path.abspath(\"../src/localstructures_newopt\")\n",
    ")"
   ]
  },
  {
   "cell_type": "markdown",
   "id": "7c5c4d37",
   "metadata": {},
   "source": [
    "## Target Definition\n",
    "\n",
    "Set the original nanoparticle over a given amount of timesteps in `nano_path`.\n",
    "An output file for where to save the resulting counts per category for each timestep can be supplied in `save_txt_path`.\n",
    "Initial configurations for the neighbour sorting algorithm are made here."
   ]
  },
  {
   "cell_type": "code",
   "execution_count": null,
   "id": "cc2124aa",
   "metadata": {},
   "outputs": [],
   "source": [
    "temperatures= [\"400\", \"500\", \"600\"]\n",
    "for temp in temperatures:\n",
    "    nano_path = \"/Users/rhysbunting/Documents/felixprocess/rh/mc/\" + temp + \".lammpstrj\"\n",
    "    save_txt_path = \"/Users/rhysbunting/Documents/felixprocess/rh/mc/\" + temp + \".txt\"\n",
    "    sorter = sort_neigh.NeighbourSort(\n",
    "        rcut=5, nmax=12, lmax=12, sigma=2.5, gamma_kernel=1,\n",
    "    local_structures_path=os.path.abspath(\"../src/localstructures_newopt_rh\")\n",
    "    )\n",
    "    start = time.time()\n",
    "    sorter.load_particle(\n",
    "    nano_path\n",
    "    )\n",
    "\n",
    "    cat_counter = sorter.create_local_structure(\n",
    "    last_n=15, create_subfolders=True,\n",
    "    mode=\"pre_group\"\n",
    "    )\n",
    "    stop = time.time()\n",
    "    print(\"Sorting took %u seconds.\"%(stop-start))\n",
    "\n",
    "    file_name = sorter.sort_save_cat(\n",
    "    file_name=save_txt_path, cat_counter=cat_counter\n",
    "    )"
   ]
  },
  {
   "cell_type": "code",
   "execution_count": null,
   "id": "892c1f51",
   "metadata": {},
   "outputs": [],
   "source": [
    "temperatures= [\"400\", \"500\", \"600\"]\n",
    "for temp in temperatures:\n",
    "    nano_path = \"/Users/rhysbunting/Documents/felixprocess/rh/mcmd/\" + temp + \".lammpstrj\"\n",
    "    save_txt_path = \"/Users/rhysbunting/Documents/felixprocess/rh/mcmd/\" + temp + \".txt\"\n",
    "    sorter = sort_neigh.NeighbourSort(\n",
    "        rcut=5, nmax=12, lmax=12, sigma=2.5, gamma_kernel=1,\n",
    "    local_structures_path=os.path.abspath(\"../src/localstructures_newopt_mcmd_rh\")\n",
    "    )\n",
    "    start = time.time()\n",
    "    sorter.load_particle(\n",
    "    nano_path\n",
    "    )\n",
    "\n",
    "    cat_counter = sorter.create_local_structure(\n",
    "    last_n=15, create_subfolders=True,\n",
    "    mode=\"pre_group\"\n",
    "    )\n",
    "    stop = time.time()\n",
    "    print(\"Sorting took %u seconds.\"%(stop-start))\n",
    "\n",
    "    file_name = sorter.sort_save_cat(\n",
    "    file_name=save_txt_path, cat_counter=cat_counter\n",
    "    )"
   ]
  },
  {
   "cell_type": "code",
   "execution_count": null,
   "id": "16561d54",
   "metadata": {},
   "outputs": [],
   "source": [
    "temperatures= [\"400\", \"500\", \"600\"]\n",
    "for temp in temperatures:\n",
    "    nano_path = \"/Users/rhysbunting/Documents/felixprocess/pd/mc/\" + temp + \".lammpstrj\"\n",
    "    save_txt_path = \"/Users/rhysbunting/Documents/felixprocess/pd/mc/\" + temp + \".txt\"\n",
    "    sorter = sort_neigh.NeighbourSort(\n",
    "        rcut=5, nmax=12, lmax=12, sigma=2.5, gamma_kernel=1,\n",
    "    local_structures_path=os.path.abspath(\"../src/localstructures_newopt_pd\")\n",
    "    )\n",
    "    start = time.time()\n",
    "    sorter.load_particle(\n",
    "    nano_path\n",
    "    )\n",
    "\n",
    "    cat_counter = sorter.create_local_structure(\n",
    "    last_n=15, create_subfolders=True,\n",
    "    mode=\"pre_group\"\n",
    "    )\n",
    "    stop = time.time()\n",
    "    print(\"Sorting took %u seconds.\"%(stop-start))\n",
    "\n",
    "    file_name = sorter.sort_save_cat(\n",
    "    file_name=save_txt_path, cat_counter=cat_counter\n",
    "    )"
   ]
  },
  {
   "cell_type": "code",
   "execution_count": null,
   "id": "4b5b5905",
   "metadata": {},
   "outputs": [],
   "source": [
    "temperatures= [\"400\", \"500\", \"600\"]\n",
    "for temp in temperatures:\n",
    "    nano_path = \"/Users/rhysbunting/Documents/felixprocess/pd/mcmd/\" + temp + \".lammpstrj\"\n",
    "    save_txt_path = \"/Users/rhysbunting/Documents/felixprocess/pd/mcmd/\" + temp + \".txt\"\n",
    "    sorter = sort_neigh.NeighbourSort(\n",
    "        rcut=5, nmax=12, lmax=12, sigma=2.5, gamma_kernel=1,\n",
    "    local_structures_path=os.path.abspath(\"../src/localstructures_newopt_mcmd_pd\")\n",
    "    )\n",
    "    start = time.time()\n",
    "    sorter.load_particle(\n",
    "    nano_path\n",
    "    )\n",
    "\n",
    "    cat_counter = sorter.create_local_structure(\n",
    "    last_n=15, create_subfolders=True,\n",
    "    mode=\"pre_group\"\n",
    "    )\n",
    "    stop = time.time()\n",
    "    print(\"Sorting took %u seconds.\"%(stop-start))\n",
    "\n",
    "    file_name = sorter.sort_save_cat(\n",
    "    file_name=save_txt_path, cat_counter=cat_counter\n",
    "    )"
   ]
  },
  {
   "cell_type": "markdown",
   "id": "04b287a3",
   "metadata": {},
   "source": [
    "## Running the sorting algorithm\n",
    "\n",
    "`NeighbourSort.init_folder_structure` creates one subdirectory in `out_dir` for each timestep in `nano_path`.\n",
    "Each subdirectory contains the nanoparticle at the given timestep as a .lammpstrj file.\n",
    "\n",
    "WARNING: `n_atoms_in_part` (number of atoms in nanoparticle) and `timesteps` (number of timesteps in `nano_path`) need to be set correctly for `NeighbourSort` to work. \n",
    "\n",
    "Running `NeighbourSort.create_local_structure` calculates the number of particles in a given configuration and saves it as a numpy array.\n",
    "Depending on `mode` the atoms are either pre-filtered by their number of neighbours (\"pre_group\") or compared to the full kernel (\"class_all\").\n",
    "If the `create_subfolders` flag is set, each timestep directory is filled with directories containing the nearest neighbours structures of the atom.\n",
    "\n",
    "`NeighbourSort.sort_save_cat` is used to sort and save a category counter for the current configuration of variables in `NeighbourSort`.\n",
    "\n",
    "The following command line arguments perform the same functionalities when run from the surface_class directory:\n",
    "\n",
    "\"`sort_neigh_terminal.py sort_cat test_data/cunano_show.lammpstrj -o test_data/sort_neigh_results/ -O test_data/show_analysis.txt`\"\n",
    "\n",
    "\"`sort_neigh_terminal.py sort_cat test_data/cunano_show.lammpstrj -o test_data/sort_neigh_results/ -O test_data/show_analysis.txt --r_cut 0.1 --create_subfolders 0 --classify_mode class_all`\""
   ]
  },
  {
   "cell_type": "code",
   "execution_count": null,
   "id": "12b831ca",
   "metadata": {},
   "outputs": [],
   "source": [
    "#start = time.time()\n",
    "#sorter.init_folder_structure(\n",
    "#    nano_path, n_atoms_in_part=1577, timesteps=None, out_dir=\"../test_data/sort_neigh_results/\"\n",
    "#)\n",
    "#\n",
    "#cat_counter = sorter.create_local_structure(\n",
    "#    last_n=15, create_subfolders=True,\n",
    "#    mode=\"pre_group\"\n",
    "#)\n",
    "#stop = time.time()\n",
    "#print(\"Sorting took %u seconds.\"%(stop-start))\n",
    "#\n",
    "#file_name = sorter.sort_save_cat(\n",
    "#    file_name=save_txt_path, cat_counter=cat_counter\n",
    "#)"
   ]
  },
  {
   "cell_type": "markdown",
   "id": "0573f409",
   "metadata": {},
   "source": [
    "## Plotting Results\n",
    "\n",
    "`NeighbourSort` contains a handy function for plotting pre-existing results called `NeighbourSort.plot_dist`.\n",
    "Here, a previously saved category counter is loaded via `NeighbourSort.load_sort_cat` and plotted.\n",
    "\n",
    "The following command line arguments perform the same functionalities when run from the surface_class directory:\n",
    "\n",
    "\"`sort_neigh_terminal.py plot_result test_data/show_analysis.txt`\""
   ]
  },
  {
   "cell_type": "code",
   "execution_count": null,
   "id": "ce122c0b",
   "metadata": {
    "scrolled": false
   },
   "outputs": [],
   "source": [
    "import numpy as np\n",
    "\n",
    "temperatures= [\"400\", \"500\", \"600\"]\n",
    "for temp in temperatures:\n",
    "    sorted_cat_counter, timesteps, sorted_classes = sorter.load_sort_cat(file_name=\"/Users/rhysbunting/Documents/felixprocess/rh/mc/\" + temp + \".txt\" )\n",
    "    sorter.plot_dist(sorted_classes, sorted_cat_counter)\n",
    "    #print('0 1 2 3_111adatom 4_100adatom 4_111adatompair 5_111terrace 5_110adatom 5_211adatom 6_100_110interface 6_100terrace 7_110 7_211 8_100 8_111vacantsite 9_invalid 9_111 9_invalid2 10 11 12 13 14')\n",
    "    print(np.sum(sorted_cat_counter, axis=0))"
   ]
  },
  {
   "cell_type": "code",
   "execution_count": null,
   "id": "3e327a0d",
   "metadata": {
    "scrolled": false
   },
   "outputs": [],
   "source": [
    "import numpy as np\n",
    "\n",
    "temperatures= [\"400\", \"500\", \"600\"]\n",
    "for temp in temperatures:\n",
    "    sorted_cat_counter, timesteps, sorted_classes = sorter.load_sort_cat(file_name=\"/Users/rhysbunting/Documents/felixprocess/rh/mcmd/\" + temp + \".txt\" )\n",
    "    sorter.plot_dist(sorted_classes, sorted_cat_counter)\n",
    "    #print('0 1 2 3_111adatom 4_100adatom 4_111adatompair 5_111terrace 5_110adatom 5_211adatom 6_100_110interface 6_100terrace 7_110 7_211 8_100 8_111vacantsite 9_invalid 9_111 9_invalid2 10 11 12 13 14')\n",
    "    print(np.sum(sorted_cat_counter, axis=0))"
   ]
  },
  {
   "cell_type": "code",
   "execution_count": null,
   "id": "61f5c43c",
   "metadata": {
    "scrolled": false
   },
   "outputs": [],
   "source": [
    "import numpy as np\n",
    "\n",
    "temperatures= [\"400\", \"500\", \"600\"]\n",
    "for temp in temperatures:\n",
    "    sorted_cat_counter, timesteps, sorted_classes = sorter.load_sort_cat(file_name=\"/Users/rhysbunting/Documents/felixprocess/pd/mc/\" + temp + \".txt\" )\n",
    "    sorter.plot_dist(sorted_classes, sorted_cat_counter)\n",
    "    #print('0 1 2 3_111adatom 4_100adatom 4_111adatompair 5_111terrace 5_110adatom 5_211adatom 6_100_110interface 6_100terrace 7_110 7_211 8_100 8_111vacantsite 9_invalid 9_111 9_invalid2 10 11 12 13 14')\n",
    "    print(np.sum(sorted_cat_counter, axis=0))"
   ]
  },
  {
   "cell_type": "code",
   "execution_count": null,
   "id": "e6187bb6",
   "metadata": {
    "scrolled": false
   },
   "outputs": [],
   "source": [
    "import numpy as np\n",
    "\n",
    "temperatures= [\"400\", \"500\", \"600\"]\n",
    "for temp in temperatures:\n",
    "    sorted_cat_counter, timesteps, sorted_classes = sorter.load_sort_cat(file_name=\"/Users/rhysbunting/Documents/felixprocess/pd/mcmd/\" + temp + \".txt\" )\n",
    "    sorter.plot_dist(sorted_classes, sorted_cat_counter)\n",
    "    #print('0 1 2 3_111adatom 4_100adatom 4_111adatompair 5_111terrace 5_110adatom 5_211adatom 6_100_110interface 6_100terrace 7_110 7_211 8_100 8_111vacantsite 9_invalid 9_111 9_invalid2 10 11 12 13 14')\n",
    "    print(np.sum(sorted_cat_counter, axis=0))"
   ]
  },
  {
   "cell_type": "code",
   "execution_count": null,
   "id": "449d1e32",
   "metadata": {},
   "outputs": [],
   "source": []
  },
  {
   "cell_type": "code",
   "execution_count": null,
   "id": "e3586a15",
   "metadata": {},
   "outputs": [],
   "source": []
  },
  {
   "cell_type": "code",
   "execution_count": null,
   "id": "67b5795c",
   "metadata": {},
   "outputs": [],
   "source": []
  },
  {
   "cell_type": "code",
   "execution_count": null,
   "id": "3aff0b9e",
   "metadata": {},
   "outputs": [],
   "source": []
  },
  {
   "cell_type": "code",
   "execution_count": null,
   "id": "7f9a7a7b",
   "metadata": {},
   "outputs": [],
   "source": []
  }
 ],
 "metadata": {
  "kernelspec": {
   "display_name": "Python 3 (ipykernel)",
   "language": "python",
   "name": "python3"
  },
  "language_info": {
   "codemirror_mode": {
    "name": "ipython",
    "version": 3
   },
   "file_extension": ".py",
   "mimetype": "text/x-python",
   "name": "python",
   "nbconvert_exporter": "python",
   "pygments_lexer": "ipython3",
   "version": "3.9.15"
  }
 },
 "nbformat": 4,
 "nbformat_minor": 5
}
