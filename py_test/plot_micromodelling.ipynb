{
 "cells": [
  {
   "cell_type": "markdown",
   "id": "ef8c08ef",
   "metadata": {},
   "source": [
    "# Script for Running MK Modelling from Library"
   ]
  },
  {
   "cell_type": "markdown",
   "id": "5534f171",
   "metadata": {},
   "source": [
    "## Imports"
   ]
  },
  {
   "cell_type": "code",
   "execution_count": null,
   "id": "ded4405f",
   "metadata": {},
   "outputs": [],
   "source": [
    "import sys\n",
    "sys.path.append(\"../py_src\")\n",
    "\n",
    "from glob import glob\n",
    "import os\n",
    "\n",
    "import numpy as np\n",
    "import matplotlib.pyplot as plt\n",
    "\n",
    "from mk_modelling import MkModeller\n",
    "\n",
    "from string import ascii_uppercase # for labeling"
   ]
  },
  {
   "cell_type": "markdown",
   "id": "c50f0fad",
   "metadata": {},
   "source": [
    "## Defining k values and Constants"
   ]
  },
  {
   "cell_type": "code",
   "execution_count": null,
   "id": "951a0a1c",
   "metadata": {},
   "outputs": [],
   "source": [
    "k_vals = np.array([\n",
    "    [0, 0], # k_1b, k_1f\n",
    "    [0, 0], # k_2b, k_2f\n",
    "    [0, 0],\n",
    "    [0, 0],\n",
    "    [0, 0],\n",
    "    [0, 0],\n",
    "    [0, 0],\n",
    "    [0, 0] # k_8b, k_8f\n",
    "])\n",
    "\n",
    "constants = np.array([\n",
    "    1., # A\n",
    "    np.nan, # B\n",
    "    np.nan,\n",
    "    np.nan,\n",
    "    np.nan,\n",
    "    np.nan,\n",
    "    0.1,\n",
    "    np.nan,\n",
    "    0.1     # I\n",
    "])\n",
    "\n",
    "cap_letters = list(ascii_uppercase)[:9]\n",
    "\n",
    "k_cap = 1.96e13\n",
    "assert np.sum(k_vals > k_cap) == 0, \"ONE OF YOUR K VALUES IS TOO LARGE RHYS.\"\n",
    "# k_vals[k_vals > 1.96e13] = k_cap"
   ]
  },
  {
   "cell_type": "markdown",
   "id": "6e46acb0",
   "metadata": {},
   "source": [
    "## Defining timesteps and MK Modeller"
   ]
  },
  {
   "cell_type": "code",
   "execution_count": null,
   "id": "fcdd22f5",
   "metadata": {},
   "outputs": [],
   "source": [
    "n_timesteps = 200\n",
    "mk_modeller = MkModeller()\n",
    "\n",
    "mk_modeller.k[...] = k_vals\n",
    "mk_modeller.y_mask[:] = constants"
   ]
  },
  {
   "cell_type": "markdown",
   "id": "a5d1abd4",
   "metadata": {},
   "source": [
    "## Running and Plotting"
   ]
  },
  {
   "cell_type": "code",
   "execution_count": null,
   "id": "45e9c5b7",
   "metadata": {},
   "outputs": [],
   "source": [
    "sol = mk_modeller.solve(n_timesteps)\n",
    "\n",
    "final_values = sol[-1, :]\n",
    "der = sol[1:, :] - sol[:-1, :]\n",
    "\n",
    "plt.title(\"Site Behaviour over Time\")\n",
    "plt.plot(sol)\n",
    "plt.ylabel(\"Sitecount\")\n",
    "plt.xlabel(\"timestep\")\n",
    "plt.legend(cap_letters)\n",
    "\n",
    "plt.show()\n",
    "\n",
    "\n",
    "plt.title(\"Site Derivative over Time\")\n",
    "plt.plot(der)\n",
    "plt.ylabel(\"Sitecount\")\n",
    "plt.xlabel(\"timestep\")\n",
    "ders = [r\"$\\frac{d%s}{dt}$\"%letter for letter in cap_letters]\n",
    "plt.legend(ders)\n",
    "\n",
    "plt.show()"
   ]
  },
  {
   "cell_type": "code",
   "execution_count": null,
   "id": "e539b1d2",
   "metadata": {},
   "outputs": [],
   "source": [
    "print('Final Values')\n",
    "for ii_let, letter in enumerate(cap_letters):\n",
    "    print(letter+\": %f\"%final_values[ii_let])"
   ]
  },
  {
   "cell_type": "code",
   "execution_count": null,
   "id": "fbfe1c47",
   "metadata": {},
   "outputs": [],
   "source": []
  }
 ],
 "metadata": {
  "kernelspec": {
   "display_name": "Python 3 (ipykernel)",
   "language": "python",
   "name": "python3"
  },
  "language_info": {
   "codemirror_mode": {
    "name": "ipython",
    "version": 3
   },
   "file_extension": ".py",
   "mimetype": "text/x-python",
   "name": "python",
   "nbconvert_exporter": "python",
   "pygments_lexer": "ipython3",
   "version": "3.8.13"
  }
 },
 "nbformat": 4,
 "nbformat_minor": 5
}
