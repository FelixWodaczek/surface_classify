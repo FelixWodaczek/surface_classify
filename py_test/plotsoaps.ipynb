{
 "cells": [
  {
   "cell_type": "markdown",
   "id": "5039a948",
   "metadata": {},
   "source": [
    "# Show Notebook for Usage of sort_neigh.py\n",
    "\n",
    "This jupyter notebook shows the core features of sort_neigh.py.\n",
    "\n",
    "sort_neigh.py consists of a classifier (`sort_neigh.NeighbourClassifier`) and a surrounding class (`sort_neigh.NeighbourSort`) that handles reading the given nanoparticle and writing the results to according folders.\n",
    "The key features can also be used in command line, some examples of how to do this are given below."
   ]
  },
  {
   "cell_type": "markdown",
   "id": "222bdcea",
   "metadata": {},
   "source": [
    "## Imports\n",
    "\n",
    "Importing sort_neigh.py and time for timing the function calls."
   ]
  },
  {
   "cell_type": "code",
   "execution_count": null,
   "id": "d221b42b",
   "metadata": {},
   "outputs": [],
   "source": [
    "import sys\n",
    "sys.path.append(\"../py_src\")\n",
    "\n",
    "import sort_neigh\n",
    "import time\n",
    "import os\n",
    "sorter = sort_neigh.NeighbourSort(\n",
    "    rcut=5.2, nmax=12, lmax=12, sigma=1.4, gamma_kernel=1,\n",
    "local_structures_path=os.path.abspath(\"../src/localstructures\")\n",
    ")"
   ]
  },
  {
   "cell_type": "markdown",
   "id": "0573f409",
   "metadata": {},
   "source": [
    "## Plotting Results\n",
    "\n",
    "`NeighbourSort` contains a handy function for plotting pre-existing results called `NeighbourSort.plot_dist`.\n",
    "Here, a previously saved category counter is loaded via `NeighbourSort.load_sort_cat` and plotted.\n",
    "\n",
    "The following command line arguments perform the same functionalities when run from the surface_class directory:\n",
    "\n",
    "\"`sort_neigh_terminal.py plot_result test_data/show_analysis.txt`\""
   ]
  },
  {
   "cell_type": "code",
   "execution_count": null,
   "id": "ce122c0b",
   "metadata": {
    "scrolled": false
   },
   "outputs": [],
   "source": [
    "import numpy as np\n",
    "\n",
    "temperatures= [\"400\", \"500\", \"600\"]\n",
    "for temp in temperatures:\n",
    "    sorted_cat_counter, timesteps, sorted_classes = sorter.load_sort_cat(file_name=\"/Users/rhysbunting/Documents/felixprocess/rh/mc/\" + temp + \".txt\" )\n",
    "    sorter.plot_dist(sorted_classes, sorted_cat_counter)\n",
    "    #print('0 1 2 3_111adatom 4_100adatom 4_111adatompair 5_111terrace 5_110adatom 5_211adatom 6_100_110interface 6_100terrace 7_110 7_211 8_100 8_111vacantsite 9_invalid 9_111 9_invalid2 10 11 12 13 14')\n",
    "    print(np.sum(sorted_cat_counter, axis=0))"
   ]
  },
  {
   "cell_type": "code",
   "execution_count": null,
   "id": "3e327a0d",
   "metadata": {
    "scrolled": false
   },
   "outputs": [],
   "source": [
    "import numpy as np\n",
    "\n",
    "temperatures= [\"400\", \"500\", \"600\"]\n",
    "for temp in temperatures:\n",
    "    sorted_cat_counter, timesteps, sorted_classes = sorter.load_sort_cat(file_name=\"/Users/rhysbunting/Documents/felixprocess/rh/mcmd/\" + temp + \".txt\" )\n",
    "    sorter.plot_dist(sorted_classes, sorted_cat_counter)\n",
    "    #print('0 1 2 3_111adatom 4_100adatom 4_111adatompair 5_111terrace 5_110adatom 5_211adatom 6_100_110interface 6_100terrace 7_110 7_211 8_100 8_111vacantsite 9_invalid 9_111 9_invalid2 10 11 12 13 14')\n",
    "    print(np.sum(sorted_cat_counter, axis=0))"
   ]
  },
  {
   "cell_type": "code",
   "execution_count": null,
   "id": "61f5c43c",
   "metadata": {
    "scrolled": false
   },
   "outputs": [],
   "source": [
    "import numpy as np\n",
    "\n",
    "temperatures= [\"400\", \"500\", \"600\"]\n",
    "for temp in temperatures:\n",
    "    sorted_cat_counter, timesteps, sorted_classes = sorter.load_sort_cat(file_name=\"/Users/rhysbunting/Documents/felixprocess/pd/mc/\" + temp + \".txt\" )\n",
    "    sorter.plot_dist(sorted_classes, sorted_cat_counter)\n",
    "    #print('0 1 2 3_111adatom 4_100adatom 4_111adatompair 5_111terrace 5_110adatom 5_211adatom 6_100_110interface 6_100terrace 7_110 7_211 8_100 8_111vacantsite 9_invalid 9_111 9_invalid2 10 11 12 13 14')\n",
    "    print(np.sum(sorted_cat_counter, axis=0))"
   ]
  },
  {
   "cell_type": "code",
   "execution_count": null,
   "id": "e6187bb6",
   "metadata": {
    "scrolled": false
   },
   "outputs": [],
   "source": [
    "import numpy as np\n",
    "\n",
    "temperatures= [\"400\", \"500\", \"600\"]\n",
    "for temp in temperatures:\n",
    "    sorted_cat_counter, timesteps, sorted_classes = sorter.load_sort_cat(file_name=\"/Users/rhysbunting/Documents/felixprocess/pd/mcmd/\" + temp + \".txt\" )\n",
    "    sorter.plot_dist(sorted_classes, sorted_cat_counter)\n",
    "    #print('0 1 2 3_111adatom 4_100adatom 4_111adatompair 5_111terrace 5_110adatom 5_211adatom 6_100_110interface 6_100terrace 7_110 7_211 8_100 8_111vacantsite 9_invalid 9_111 9_invalid2 10 11 12 13 14')\n",
    "    print(np.sum(sorted_cat_counter, axis=0))"
   ]
  },
  {
   "cell_type": "code",
   "execution_count": null,
   "id": "e3586a15",
   "metadata": {},
   "outputs": [],
   "source": []
  },
  {
   "cell_type": "code",
   "execution_count": null,
   "id": "67b5795c",
   "metadata": {},
   "outputs": [],
   "source": []
  },
  {
   "cell_type": "code",
   "execution_count": null,
   "id": "3aff0b9e",
   "metadata": {},
   "outputs": [],
   "source": [
    "#import sys\n",
    "#sys.path.append(\"../py_src\")\n",
    "#\n",
    "#import sort_neigh\n",
    "#import time\n",
    "#import os\n",
    "#sorter = sort_neigh.NeighbourSort(\n",
    "#    rcut=5.2, nmax=12, lmax=12, sigma=1.5, gamma_kernel=1,\n",
    "#local_structures_path=os.path.abspath(\"../src/localstructures\")\n",
    "#)"
   ]
  },
  {
   "cell_type": "code",
   "execution_count": null,
   "id": "7f9a7a7b",
   "metadata": {},
   "outputs": [],
   "source": [
    "#temperatures= [\"600-test\"]\n",
    "#for temp in temperatures:\n",
    "#    nano_path = \"/Users/rhysbunting/Documents/felixprocess/input/pd/mcmd/\" + temp + \".lammpstrj\"\n",
    "#    save_txt_path = \"/Users/rhysbunting/Documents/felixprocess/pd/mcmd/\" + temp + \".txt\"\n",
    "#    sorter = sort_neigh.NeighbourSort(\n",
    "#        rcut=5.2, nmax=12, lmax=12, sigma=2.5, gamma_kernel=1,\n",
    "#    local_structures_path=os.path.abspath(\"../src/localstructures_newopt_pd2\")\n",
    "#    )\n",
    "#    start = time.time()\n",
    "#    sorter.load_particle(\n",
    "#    nano_path\n",
    "#    )\n",
    "#\n",
    "#    cat_counter = sorter.create_local_structure(\n",
    "#    last_n=15, create_subfolders=True,\n",
    "#    mode=\"pre_group\"\n",
    "#    )\n",
    "#    stop = time.time()\n",
    "#    print(\"Sorting took %u seconds.\"%(stop-start))\n",
    "#\n",
    "#    file_name = sorter.sort_save_cat(\n",
    "#    file_name=save_txt_path, cat_counter=cat_counter\n",
    "#    )"
   ]
  },
  {
   "cell_type": "code",
   "execution_count": null,
   "id": "449d1e32",
   "metadata": {},
   "outputs": [],
   "source": [
    "#import numpy as np\n",
    "#\n",
    "#temperatures= [\"600-test\"]\n",
    "#for temp in temperatures:\n",
    "#    sorted_cat_counter, timesteps, sorted_classes = sorter.load_sort_cat(file_name=\"/Users/rhysbunting/Documents/felixprocess/pd/mcmd/\" + temp + \".txt\" )\n",
    "#    sorter.plot_dist(sorted_classes, sorted_cat_counter)\n",
    "#    #print('0 1 2 3_111adatom 4_100adatom 4_111adatompair 5_111terrace 5_110adatom 5_211adatom 6_100_110interface 6_100terrace 7_110 7_211 8_100 8_111vacantsite 9_invalid 9_111 9_invalid2 10 11 12 13 14')\n",
    "#    print(np.sum(sorted_cat_counter, axis=0))"
   ]
  },
  {
   "cell_type": "code",
   "execution_count": null,
   "id": "4b415519",
   "metadata": {},
   "outputs": [],
   "source": []
  },
  {
   "cell_type": "code",
   "execution_count": null,
   "id": "d7803ab1",
   "metadata": {},
   "outputs": [],
   "source": []
  },
  {
   "cell_type": "code",
   "execution_count": null,
   "id": "2943b973",
   "metadata": {},
   "outputs": [],
   "source": []
  }
 ],
 "metadata": {
  "kernelspec": {
   "display_name": "base",
   "language": "python",
   "name": "python3"
  },
  "language_info": {
   "codemirror_mode": {
    "name": "ipython",
    "version": 3
   },
   "file_extension": ".py",
   "mimetype": "text/x-python",
   "name": "python",
   "nbconvert_exporter": "python",
   "pygments_lexer": "ipython3",
   "version": "3.8.13 (default, Mar 28 2022, 06:16:26) \n[Clang 12.0.0 ]"
  },
  "vscode": {
   "interpreter": {
    "hash": "89c38489e3a3631c28bb34ee29ee1d19eecb11ca19c23361330a3cc012ae8209"
   }
  }
 },
 "nbformat": 4,
 "nbformat_minor": 5
}
