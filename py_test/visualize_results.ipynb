{
 "cells": [
  {
   "cell_type": "code",
   "execution_count": null,
   "id": "cf7fb110",
   "metadata": {},
   "outputs": [],
   "source": [
    "import sys\n",
    "sys.path.append(\"../py_src\")\n",
    "\n",
    "from glob import glob\n",
    "import os\n",
    "\n",
    "import numpy as np\n",
    "import matplotlib.pyplot as plt\n",
    "\n",
    "import sort_neigh\n",
    "\n",
    "from ase.io import read as ase_read\n",
    "from ase.neighborlist import natural_cutoffs, NeighborList"
   ]
  },
  {
   "cell_type": "code",
   "execution_count": null,
   "id": "67a0e34b",
   "metadata": {},
   "outputs": [],
   "source": [
    "target_file = \"../test_data/220523_cunano_mcswap/mcmd/1000opt.lammpstrj\"\n",
    "t_file = os.path.abspath(target_file)\n",
    "cur_dir = os.path.dirname(t_file)\n",
    "cur_fname = os.path.basename(t_file).split(\".\")[0]\n",
    "\n",
    "rcut=9.0\n",
    "nmax=12\n",
    "lmax=12\n",
    "sigma=0.5\n",
    "gamma_kernel=0.05\n",
    "mode='pre_group'\n",
    "\n",
    "cur_sorter = sort_neigh.NeighbourSort(\n",
    "    rcut=rcut, nmax=nmax, lmax=lmax, \n",
    "    sigma=sigma, gamma_kernel=gamma_kernel\n",
    ")\n",
    "\n",
    "cur_out_dir = os.path.join(cur_dir, cur_fname+\"_out/\")\n",
    "cur_out_file = os.path.join(cur_dir, cur_fname+\"_count.txt\")\n",
    "\n",
    "cur_sorted_counts, cur_timesteps, cur_sorted_cats = cur_sorter.load_sort_cat(cur_out_file)"
   ]
  },
  {
   "cell_type": "code",
   "execution_count": null,
   "id": "ae0d7a4a",
   "metadata": {},
   "outputs": [],
   "source": [
    "where_cond = np.argwhere(cur_sorted_counts[:, -1]>0)"
   ]
  },
  {
   "cell_type": "code",
   "execution_count": null,
   "id": "8d4fe299",
   "metadata": {},
   "outputs": [],
   "source": [
    "which_vac = where_cond[0]\n",
    "\n",
    "ts_path = cur_out_dir+(\"/ts_%u/cunano_%u.lammpstrj\"%(which_vac, which_vac))\n",
    "site_part = ase_read(ts_path)\n",
    "site_positions = site_part.get_positions()\n",
    "\n",
    "%matplotlib auto\n",
    "plt.ion()\n",
    "\n",
    "fig = plt.figure(figsize=(12, 8))\n",
    "ax = fig.add_subplot(projection='3d')\n",
    "\n",
    "sc = ax.scatter(\n",
    "    site_positions[:-15, 0], site_positions[:-15, 1], site_positions[:-15, 2],\n",
    "    c=\"tab:grey\", alpha=0.07,\n",
    "    s=400, edgecolors=\"k\"\n",
    ")\n",
    "sc = ax.scatter(\n",
    "    site_positions[-15:, 0], site_positions[-15:, 1], site_positions[-15:, 2], \n",
    "    c=\"tab:blue\", alpha=1,\n",
    "    s=400, edgecolors=\"k\"\n",
    ")"
   ]
  },
  {
   "cell_type": "code",
   "execution_count": null,
   "id": "2d46268b",
   "metadata": {},
   "outputs": [],
   "source": [
    "from ase.visualize import view\n",
    "\n",
    "cut_off = natural_cutoffs(site_part, mult=0.9)\n",
    "neighbour_list = NeighborList(cut_off, bothways=True, self_interaction=True)\n",
    "neighbour_list.update(site_part)\n",
    "\n",
    "for index in range(len(site_part)-15, len(site_part)):\n",
    "    neighbour_indices, trash = neighbour_list.get_neighbors(index)\n",
    "    neighbour_particle = site_part[neighbour_indices[:-1]]\n",
    "    n_neigh, class_id = cur_sorter.classifier.classify(\n",
    "        neighbour_particle, mode=mode, ensure_position=False\n",
    "    )\n",
    "    if n_neigh > 12:\n",
    "        sc = ax.scatter(\n",
    "            site_positions[neighbour_indices[1:-1], 0], \n",
    "            site_positions[neighbour_indices[1:-1], 1], \n",
    "            site_positions[neighbour_indices[1:-1], 2],\n",
    "            c=\"tab:red\", alpha=0.8,\n",
    "            s=400, edgecolors=\"g\"\n",
    "        )\n",
    "        \n",
    "        view(neighbour_particle)"
   ]
  },
  {
   "cell_type": "code",
   "execution_count": null,
   "id": "63d85942",
   "metadata": {},
   "outputs": [],
   "source": []
  }
 ],
 "metadata": {
  "kernelspec": {
   "display_name": "Python 3 (ipykernel)",
   "language": "python",
   "name": "python3"
  },
  "language_info": {
   "codemirror_mode": {
    "name": "ipython",
    "version": 3
   },
   "file_extension": ".py",
   "mimetype": "text/x-python",
   "name": "python",
   "nbconvert_exporter": "python",
   "pygments_lexer": "ipython3",
   "version": "3.8.11"
  }
 },
 "nbformat": 4,
 "nbformat_minor": 5
}
